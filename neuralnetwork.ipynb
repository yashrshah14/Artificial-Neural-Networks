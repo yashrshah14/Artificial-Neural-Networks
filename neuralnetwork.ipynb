{
 "cells": [
  {
   "cell_type": "code",
   "execution_count": 133,
   "metadata": {
    "collapsed": true
   },
   "outputs": [],
   "source": [
    "import numpy as np\n",
    "import matplotlib.pyplot as plt\n",
    "import csv\n",
    "import math"
   ]
  },
  {
   "cell_type": "markdown",
   "metadata": {},
   "source": [
    "Read in the data, here dataset was splitted into 3 parts, training dataset, test dataset, and validation dataset."
   ]
  },
  {
   "cell_type": "code",
   "execution_count": 134,
   "metadata": {},
   "outputs": [
    {
     "name": "stdout",
     "output_type": "stream",
     "text": [
      "X shape (42000, 784)\n",
      "Y shape (42000,)\n"
     ]
    }
   ],
   "source": [
    "# read in data\n",
    "f = open('train.csv', 'rb')\n",
    "reader = csv.reader(f)\n",
    "\n",
    "Y = np.empty([42000], dtype = np.int8)\n",
    "X = np.empty([42000, 784])\n",
    "\n",
    "rowNum = 0\n",
    "for row in reader:\n",
    "    if rowNum == 0: # skip header\n",
    "        rowNum += 1\n",
    "    else:\n",
    "        Y[rowNum - 1] = row[0] # read label\n",
    "        for col in range(1, 785):\n",
    "            X[rowNum - 1, col - 1] = row[col] # read image, for each image pixels are put into a row\n",
    "        rowNum += 1\n",
    "print 'X shape', X.shape\n",
    "print 'Y shape', Y.shape"
   ]
  },
  {
   "cell_type": "markdown",
   "metadata": {},
   "source": [
    "Split data into three parts, training set, val set, and test set"
   ]
  },
  {
   "cell_type": "code",
   "execution_count": 135,
   "metadata": {},
   "outputs": [
    {
     "name": "stdout",
     "output_type": "stream",
     "text": [
      "Y_train shape (26880,)\n",
      "Y_val shape (6720,)\n",
      "Y_test shape (8400,)\n",
      "X_train shape (26880, 784)\n",
      "X_val shape (6720, 784)\n",
      "X_test shape (8400, 784)\n"
     ]
    }
   ],
   "source": [
    "num_train = int((X.shape[0]) * 0.64)\n",
    "num_val = int((X.shape[0] * 0.16))\n",
    "num_test = X.shape[0] - num_train - num_val\n",
    "\n",
    "Y_train = Y[0 : num_train]\n",
    "Y_val = Y[num_train : num_train + num_val]\n",
    "Y_test = Y[num_train + num_val : X.shape[0]]\n",
    "\n",
    "X_train = X[0 : num_train, :]\n",
    "X_val = X[num_train : (num_train + num_val), :]\n",
    "X_test = X[(num_train + num_val) : X.shape[0], :]\n",
    "\n",
    "print 'Y_train shape', Y_train.shape\n",
    "print 'Y_val shape', Y_val.shape\n",
    "print 'Y_test shape', Y_test.shape\n",
    "print 'X_train shape', X_train.shape\n",
    "print 'X_val shape', X_val.shape\n",
    "print 'X_test shape', X_test.shape"
   ]
  },
  {
   "cell_type": "markdown",
   "metadata": {},
   "source": [
    "Here we are using ReLU function as the non-linear function. The net only has one hidder layer, and the hidder layer size is the same as input layer (784). So, the network looks like this: input layer -> hidden layer -> ReLU -> output layer. This network configuration is the same as the scikit-learn version neural network."
   ]
  },
  {
   "cell_type": "code",
   "execution_count": 136,
   "metadata": {
    "collapsed": true
   },
   "outputs": [],
   "source": [
    "input_size = 784\n",
    "hidden_size = 784\n",
    "output_size = 10\n",
    "W1 = 1e-4 * np.random.randn(input_size, hidden_size) # initialize and randomize the parameters\n",
    "b1 = np.zeros(hidden_size)\n",
    "W2 = 1e-4 * np.random.randn(hidden_size, output_size)\n",
    "b2 = np.zeros(output_size)"
   ]
  },
  {
   "cell_type": "code",
   "execution_count": 137,
   "metadata": {},
   "outputs": [
    {
     "name": "stdout",
     "output_type": "stream",
     "text": [
      "iterations_per_epoch 134\n"
     ]
    }
   ],
   "source": [
    "num_itrs = 4000 # # of iterations, this will be broken by convergence check\n",
    "batch_size = 200 # batch size\n",
    "reg = 0.5 # regularization parameter\n",
    "learning_rate = 1e-3 # learning rate, here we are using the constant learning rate, which is the same as scikit-lean version code\n",
    "iterations_per_epoch = int(num_train / batch_size) # each epoch has iterations_per_epoch iterations\n",
    "epoch = 0\n",
    "loss_history = []\n",
    "train_acc_history = []\n",
    "val_acc_history = []\n",
    "print 'iterations_per_epoch', iterations_per_epoch"
   ]
  },
  {
   "cell_type": "code",
   "execution_count": 138,
   "metadata": {
    "collapsed": true
   },
   "outputs": [],
   "source": [
    "def predict(X, Y, W1, b1, W2, b2): # predict the accuracy\n",
    "    h1 = X.dot(W1) + b1\n",
    "    r1 = np.maximum(0, h1)\n",
    "    scores = r1.dot(W2) + b2\n",
    "    y_pred = np.argmax(scores, axis = 1)\n",
    "    \n",
    "    return y_pred"
   ]
  },
  {
   "cell_type": "code",
   "execution_count": 139,
   "metadata": {},
   "outputs": [
    {
     "name": "stdout",
     "output_type": "stream",
     "text": [
      "epoch 0: train_acc: 0.385000, val_acc: 0.288839\n",
      "epoch 1: train_acc: 0.890000, val_acc: 0.874256\n",
      "epoch 2: train_acc: 0.905000, val_acc: 0.898065\n",
      "epoch 3: train_acc: 0.930000, val_acc: 0.906548\n",
      "epoch 4: train_acc: 0.960000, val_acc: 0.923661\n",
      "epoch 5: train_acc: 0.935000, val_acc: 0.929464\n",
      "epoch 6: train_acc: 0.935000, val_acc: 0.936607\n",
      "epoch 7: train_acc: 0.935000, val_acc: 0.941071\n",
      "epoch 8: train_acc: 0.955000, val_acc: 0.945685\n",
      "epoch 9: train_acc: 0.940000, val_acc: 0.945387\n",
      "epoch 10: train_acc: 0.980000, val_acc: 0.948065\n",
      "epoch 11: train_acc: 0.975000, val_acc: 0.952083\n",
      "epoch 12: train_acc: 0.965000, val_acc: 0.946131\n",
      "epoch 13: train_acc: 0.985000, val_acc: 0.954167\n",
      "epoch 14: train_acc: 0.965000, val_acc: 0.955952\n",
      "epoch 15: train_acc: 0.980000, val_acc: 0.957589\n",
      "epoch 16: train_acc: 0.975000, val_acc: 0.957738\n",
      "epoch 17: train_acc: 0.990000, val_acc: 0.958185\n",
      "epoch 18: train_acc: 0.975000, val_acc: 0.957440\n",
      "epoch 19: train_acc: 0.980000, val_acc: 0.956994\n",
      "epoch 20: train_acc: 0.955000, val_acc: 0.959673\n",
      "epoch 21: train_acc: 0.975000, val_acc: 0.959970\n",
      "epoch 22: train_acc: 0.975000, val_acc: 0.961756\n",
      "epoch 23: train_acc: 0.985000, val_acc: 0.962649\n",
      "epoch 24: train_acc: 0.990000, val_acc: 0.960565\n",
      "epoch 25: train_acc: 0.990000, val_acc: 0.963095\n",
      "epoch 26: train_acc: 0.985000, val_acc: 0.964286\n",
      "epoch 27: train_acc: 0.995000, val_acc: 0.963244\n",
      "epoch 28: train_acc: 0.990000, val_acc: 0.966220\n",
      "epoch 29: train_acc: 0.990000, val_acc: 0.965179\n"
     ]
    }
   ],
   "source": [
    "for itr in range(num_itrs):\n",
    "    random_index = np.random.choice(np.arange(num_train), batch_size)\n",
    "    X_batch = X_train[random_index]\n",
    "    Y_batch = Y_train[random_index].astype(dtype = np.int8)\n",
    "    \n",
    "    # Compute the scores\n",
    "    h1 = X_batch.dot(W1) + b1\n",
    "    r1 = np.maximum(0, h1) # ReLU function\n",
    "    scores = r1.dot(W2) + b2\n",
    "    \n",
    "    # compute the loss using L2 regularization and softmax\n",
    "    scores = np.exp(scores)\n",
    "    probs = scores / np.sum(scores, axis = 1, keepdims = True)\n",
    "    index = np.arange(X_batch.shape[0], dtype = np.int8)\n",
    "    target_probs = probs[index, Y_batch]\n",
    "    log_probs = -np.log(target_probs)\n",
    "    data_loss = np.sum(log_probs) / X_batch.shape[0]\n",
    "    loss = data_loss + 0.5 * reg * np.sum(np.square(W1)) + 0.5 * reg * np.sum(np.square(W2))\n",
    "    \n",
    "    # backward propagation\n",
    "    grads = {}\n",
    "    # softmax derivative\n",
    "    dscores = probs\n",
    "    dscores[np.arange(X_batch.shape[0]), Y_batch] -= 1\n",
    "    dscores /= X_batch.shape[0]\n",
    "    \n",
    "    # backward propagate\n",
    "    grads['W2'] = r1.T.dot(dscores)\n",
    "    grads['b2'] = np.sum(dscores, axis = 0)\n",
    "    \n",
    "    dh = dscores.dot(W2.T)\n",
    "    dh[h1 <= 0] = 0\n",
    "    \n",
    "    grads['W1'] = X_batch.T.dot(dh)\n",
    "    grads['b1'] = np.sum(dh, axis = 0)\n",
    "    \n",
    "    grads['W2'] += reg * W2\n",
    "    grads['W1'] += reg * W1\n",
    "        \n",
    "    W1 -= learning_rate * grads['W1']\n",
    "    b1 -= learning_rate * grads['b1']\n",
    "    W2 -= learning_rate * grads['W2']\n",
    "    b2 -= learning_rate * grads['b2']\n",
    "    \n",
    "    # Every epoch, check train and val accuracy\n",
    "    if itr % iterations_per_epoch == 0:\n",
    "        \n",
    "        loss_history.append(loss)\n",
    "        \n",
    "        # check accuracy\n",
    "        train_acc = (predict(X_batch, Y_batch, W1, b1, W2, b2) == Y_batch).mean()\n",
    "        val_acc = (predict(X_val, Y_val, W1, b1, W2, b2) == Y_val).mean()\n",
    "        train_acc_history.append(train_acc)  \n",
    "        \n",
    "        if len(val_acc_history) != 0 and math.fabs(val_acc - val_acc_history[-1]) <= 1e-4: # convergence detection\n",
    "            val_acc_history.append(val_acc)\n",
    "            print 'epoch %d: train_acc: %f, val_acc: %f' % (epoch, train_acc, val_acc)\n",
    "            print 'train is done!'\n",
    "            break\n",
    "        \n",
    "        val_acc_history.append(val_acc)\n",
    "        print 'epoch %d: train_acc: %f, val_acc: %f' % (epoch, train_acc, val_acc)\n",
    "        epoch += 1"
   ]
  },
  {
   "cell_type": "markdown",
   "metadata": {},
   "source": [
    "Plot the loss, validation accuracy, and training accuracy"
   ]
  },
  {
   "cell_type": "code",
   "execution_count": 143,
   "metadata": {},
   "outputs": [
    {
     "data": {
      "image/png": "[encoded data removed]",
      "text/plain": [
       "<matplotlib.figure.Figure at 0x7fc80c02d090>"
      ]
     },
     "metadata": {},
     "output_type": "display_data"
    },
    {
     "data": {
      "image/png": "[encoded data removed]",
      "text/plain": [
       "<matplotlib.figure.Figure at 0x7fc80bfcf990>"
      ]
     },
     "metadata": {},
     "output_type": "display_data"
    }
   ],
   "source": [
    "plt.figure()\n",
    "plt.plot(loss_history)\n",
    "plt.ylabel('loss')\n",
    "\n",
    "plt.figure()\n",
    "plt.plot(train_acc_history)\n",
    "plt.plot(val_acc_history)\n",
    "plt.ylabel('accuracy')\n",
    "plt.legend(['train_accuracy', 'validation_accuracy'], loc = 'upper left')\n",
    "\n",
    "plt.show()"
   ]
  },
  {
   "cell_type": "markdown",
   "metadata": {},
   "source": [
    "Test the neural nework using test dataset"
   ]
  },
  {
   "cell_type": "code",
   "execution_count": 141,
   "metadata": {},
   "outputs": [
    {
     "name": "stdout",
     "output_type": "stream",
     "text": [
      "test accuracy: 0.965952\n"
     ]
    }
   ],
   "source": [
    "test_acc = (predict(X_test, Y_test, W1, b1, W2, b2) == Y_test).mean()\n",
    "print 'test accuracy: %f' % (test_acc)"
   ]
  },
  {
   "cell_type": "code",
   "execution_count": null,
   "metadata": {
    "collapsed": true
   },
   "outputs": [],
   "source": []
  }
 ],
 "metadata": {
  "kernelspec": {
   "display_name": "Python 2",
   "language": "python",
   "name": "python2"
  },
  "language_info": {
   "codemirror_mode": {
    "name": "ipython",
    "version": 2
   },
   "file_extension": ".py",
   "mimetype": "text/x-python",
   "name": "python",
   "nbconvert_exporter": "python",
   "pygments_lexer": "ipython2",
   "version": "2.7.13"
  }
 },
 "nbformat": 4,
 "nbformat_minor": 2
}

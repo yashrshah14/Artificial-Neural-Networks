{
 "cells": [
  {
   "cell_type": "code",
   "execution_count": 65,
   "metadata": {
    "collapsed": true
   },
   "outputs": [],
   "source": [
    "import csv\n",
    "import numpy as np\n",
    "from sklearn.neural_network import MLPClassifier"
   ]
  },
  {
   "cell_type": "markdown",
   "metadata": {},
   "source": [
    "Read in the data, here dataset was splitted into two parts (we are using scikit learning package) training dataset and test dataset. If we implemented the neural network from scratch, then we would need to split the dataset into three parts, training dataset, validation dataset, and test dataset."
   ]
  },
  {
   "cell_type": "code",
   "execution_count": 66,
   "metadata": {},
   "outputs": [],
   "source": [
    "f = open('train.csv', 'rb')\n",
    "reader = csv.reader(f)\n",
    "\n",
    "Y = np.empty([42000])\n",
    "X = np.empty([42000, 784])\n",
    "\n",
    "rowNum = 0\n",
    "for row in reader:\n",
    "    if rowNum == 0: # skip header\n",
    "        rowNum += 1\n",
    "    else:\n",
    "        Y[rowNum - 1] = row[0] # read label\n",
    "        for col in range(1, 785):\n",
    "            X[rowNum - 1, col - 1] = row[col] # read image, for each image, pixels are put into a row\n",
    "        rowNum += 1"
   ]
  },
  {
   "cell_type": "markdown",
   "metadata": {},
   "source": [
    "Split data into two parts, training set and test set"
   ]
  },
  {
   "cell_type": "code",
   "execution_count": 67,
   "metadata": {
    "scrolled": true
   },
   "outputs": [
    {
     "name": "stdout",
     "output_type": "stream",
     "text": [
      "(33600L,)\n",
      "(33600L, 784L)\n",
      "(8400L,)\n",
      "(8400L, 784L)\n"
     ]
    }
   ],
   "source": [
    "Y_train = Y[0: 33600]\n",
    "Y_test = Y[33600: 42000]\n",
    "X_train = X[0: 33600, :]\n",
    "X_test = X[33600: 42000, :]\n",
    "print Y_train.shape\n",
    "print X_train.shape\n",
    "print Y_test.shape\n",
    "print X_test.shape"
   ]
  },
  {
   "cell_type": "markdown",
   "metadata": {},
   "source": [
    "Use scikit learn MLP classifier to build up the neural network and train\n",
    "Here, we set hidden layer size is 784(input) -> 784(hidder layer) -> 10(output)\n",
    "Here we are using the simplest neural network, and in the below we can see the result is good enough"
   ]
  },
  {
   "cell_type": "code",
   "execution_count": 68,
   "metadata": {},
   "outputs": [
    {
     "name": "stdout",
     "output_type": "stream",
     "text": [
      "Iteration 1, loss = 1.40934312\n",
      "Iteration 2, loss = 0.31285049\n",
      "Iteration 3, loss = 0.23010237\n",
      "Iteration 4, loss = 0.18947359\n",
      "Iteration 5, loss = 0.16445879\n",
      "Iteration 6, loss = 0.14220434\n",
      "Iteration 7, loss = 0.12627482\n",
      "Iteration 8, loss = 0.11709359\n",
      "Iteration 9, loss = 0.10267391\n",
      "Iteration 10, loss = 0.09373810\n",
      "Iteration 11, loss = 0.08281682\n",
      "Iteration 12, loss = 0.07616403\n",
      "Iteration 13, loss = 0.07006323\n",
      "Iteration 14, loss = 0.06122891\n",
      "Iteration 15, loss = 0.05854555\n",
      "Iteration 16, loss = 0.05346584\n",
      "Iteration 17, loss = 0.04679163\n",
      "Iteration 18, loss = 0.04313984\n",
      "Iteration 19, loss = 0.04064832\n",
      "Iteration 20, loss = 0.03652288\n",
      "Iteration 21, loss = 0.03419382\n",
      "Iteration 22, loss = 0.03117506\n",
      "Iteration 23, loss = 0.02889861\n",
      "Iteration 24, loss = 0.02504551\n",
      "Iteration 25, loss = 0.02118085\n",
      "Iteration 26, loss = 0.01981429\n",
      "Iteration 27, loss = 0.01946265\n",
      "Iteration 28, loss = 0.01738894\n",
      "Iteration 29, loss = 0.01587885\n",
      "Iteration 30, loss = 0.01461441\n",
      "Iteration 31, loss = 0.01394435\n",
      "Iteration 32, loss = 0.01247249\n",
      "Iteration 33, loss = 0.01073073\n",
      "Iteration 34, loss = 0.01002542\n",
      "Iteration 35, loss = 0.00919867\n",
      "Iteration 36, loss = 0.00894743\n",
      "Iteration 37, loss = 0.00839777\n",
      "Iteration 38, loss = 0.00751686\n",
      "Iteration 39, loss = 0.00726568\n",
      "Iteration 40, loss = 0.00690192\n",
      "Iteration 41, loss = 0.00628731\n",
      "Iteration 42, loss = 0.00622134\n",
      "Iteration 43, loss = 0.00558213\n",
      "Iteration 44, loss = 0.00573958\n",
      "Iteration 45, loss = 0.00523170\n",
      "Iteration 46, loss = 0.00514679\n",
      "Iteration 47, loss = 0.00486589\n",
      "Iteration 48, loss = 0.00465651\n",
      "Iteration 49, loss = 0.00461434\n",
      "Iteration 50, loss = 0.00444210\n",
      "Iteration 51, loss = 0.00426579\n",
      "Iteration 52, loss = 0.00413815\n",
      "Iteration 53, loss = 0.00398301\n",
      "Iteration 54, loss = 0.00393778\n",
      "Iteration 55, loss = 0.00379102\n",
      "Iteration 56, loss = 0.00356953\n",
      "Iteration 57, loss = 0.00351142\n",
      "Iteration 58, loss = 0.00344714\n",
      "Iteration 59, loss = 0.00338335\n",
      "Training loss did not improve more than tol=0.000100 for two consecutive epochs. Stopping.\n"
     ]
    },
    {
     "data": {
      "text/plain": [
       "MLPClassifier(activation='relu', alpha=0.0001, batch_size='auto', beta_1=0.9,\n",
       "       beta_2=0.999, early_stopping=False, epsilon=1e-08,\n",
       "       hidden_layer_sizes=(784,), learning_rate='constant',\n",
       "       learning_rate_init=0.001, max_iter=200, momentum=0.9,\n",
       "       nesterovs_momentum=True, power_t=0.5, random_state=1, shuffle=True,\n",
       "       solver='sgd', tol=0.0001, validation_fraction=0.1, verbose=True,\n",
       "       warm_start=False)"
      ]
     },
     "execution_count": 68,
     "metadata": {},
     "output_type": "execute_result"
    }
   ],
   "source": [
    "classifier = MLPClassifier(solver = 'sgd',hidden_layer_sizes=(784, ), random_state = 1, learning_rate = 'constant', verbose = True)\n",
    "classifier.fit(X_train, Y_train)"
   ]
  },
  {
   "cell_type": "markdown",
   "metadata": {},
   "source": [
    "Use trained neural network to predict test dataset"
   ]
  },
  {
   "cell_type": "code",
   "execution_count": 69,
   "metadata": {
    "collapsed": true
   },
   "outputs": [],
   "source": [
    "Y_predict = classifier.predict(X_test)"
   ]
  },
  {
   "cell_type": "markdown",
   "metadata": {},
   "source": [
    "We get a roughly perfect result using our multi-layer neural network model, here the accracy we got is 96%."
   ]
  },
  {
   "cell_type": "code",
   "execution_count": 70,
   "metadata": {},
   "outputs": [
    {
     "name": "stdout",
     "output_type": "stream",
     "text": [
      "0.955833333333\n"
     ]
    }
   ],
   "source": [
    "accuracy = float(np.count_nonzero(Y_predict == Y_test))/float(Y_test.shape[0])\n",
    "print accuracy"
   ]
  },
  {
   "cell_type": "code",
   "execution_count": null,
   "metadata": {
    "collapsed": true
   },
   "outputs": [],
   "source": []
  }
 ],
 "metadata": {
  "kernelspec": {
   "display_name": "Python 2",
   "language": "python",
   "name": "python2"
  },
  "language_info": {
   "codemirror_mode": {
    "name": "ipython",
    "version": 2
   },
   "file_extension": ".py",
   "mimetype": "text/x-python",
   "name": "python",
   "nbconvert_exporter": "python",
   "pygments_lexer": "ipython2",
   "version": "2.7.13"
  }
 },
 "nbformat": 4,
 "nbformat_minor": 2
}
